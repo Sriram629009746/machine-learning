{
  "nbformat": 4,
  "nbformat_minor": 0,
  "metadata": {
    "colab": {
      "provenance": []
    },
    "kernelspec": {
      "name": "python3",
      "display_name": "Python 3"
    },
    "language_info": {
      "name": "python"
    }
  },
  "cells": [
    {
      "cell_type": "code",
      "execution_count": null,
      "metadata": {
        "id": "9W7rCtyftLnc"
      },
      "outputs": [],
      "source": [
        "import numpy as np\n",
        "import pandas as pd"
      ]
    },
    {
      "cell_type": "code",
      "source": [
        "train = pd.read_csv('/content/Traindata.csv', header=None)\n",
        "test = pd.read_csv('/content/Testdata.csv', header=None)"
      ],
      "metadata": {
        "id": "XRxGEjovtR3y"
      },
      "execution_count": null,
      "outputs": []
    },
    {
      "cell_type": "code",
      "source": [
        "train.head()"
      ],
      "metadata": {
        "colab": {
          "base_uri": "https://localhost:8080/",
          "height": 206
        },
        "id": "yJ8YpK-CthkT",
        "outputId": "276c9b4a-a773-403b-c5c0-503ff1727fd4"
      },
      "execution_count": null,
      "outputs": [
        {
          "output_type": "execute_result",
          "data": {
            "text/plain": [
              "        x1       x2       x3  y\n",
              "0  0.55828  0.89844  0.14509  1\n",
              "1  0.59887  0.42924  0.37727  1\n",
              "2  0.14888  0.33433  0.27906  1\n",
              "3  0.89971  0.59665  0.21390  1\n",
              "4  0.45039  0.90199  0.13360  1"
            ],
            "text/html": [
              "\n",
              "  <div id=\"df-9abe9c58-0bff-45ef-8690-052f34670b89\">\n",
              "    <div class=\"colab-df-container\">\n",
              "      <div>\n",
              "<style scoped>\n",
              "    .dataframe tbody tr th:only-of-type {\n",
              "        vertical-align: middle;\n",
              "    }\n",
              "\n",
              "    .dataframe tbody tr th {\n",
              "        vertical-align: top;\n",
              "    }\n",
              "\n",
              "    .dataframe thead th {\n",
              "        text-align: right;\n",
              "    }\n",
              "</style>\n",
              "<table border=\"1\" class=\"dataframe\">\n",
              "  <thead>\n",
              "    <tr style=\"text-align: right;\">\n",
              "      <th></th>\n",
              "      <th>x1</th>\n",
              "      <th>x2</th>\n",
              "      <th>x3</th>\n",
              "      <th>y</th>\n",
              "    </tr>\n",
              "  </thead>\n",
              "  <tbody>\n",
              "    <tr>\n",
              "      <th>0</th>\n",
              "      <td>0.55828</td>\n",
              "      <td>0.89844</td>\n",
              "      <td>0.14509</td>\n",
              "      <td>1</td>\n",
              "    </tr>\n",
              "    <tr>\n",
              "      <th>1</th>\n",
              "      <td>0.59887</td>\n",
              "      <td>0.42924</td>\n",
              "      <td>0.37727</td>\n",
              "      <td>1</td>\n",
              "    </tr>\n",
              "    <tr>\n",
              "      <th>2</th>\n",
              "      <td>0.14888</td>\n",
              "      <td>0.33433</td>\n",
              "      <td>0.27906</td>\n",
              "      <td>1</td>\n",
              "    </tr>\n",
              "    <tr>\n",
              "      <th>3</th>\n",
              "      <td>0.89971</td>\n",
              "      <td>0.59665</td>\n",
              "      <td>0.21390</td>\n",
              "      <td>1</td>\n",
              "    </tr>\n",
              "    <tr>\n",
              "      <th>4</th>\n",
              "      <td>0.45039</td>\n",
              "      <td>0.90199</td>\n",
              "      <td>0.13360</td>\n",
              "      <td>1</td>\n",
              "    </tr>\n",
              "  </tbody>\n",
              "</table>\n",
              "</div>\n",
              "      <button class=\"colab-df-convert\" onclick=\"convertToInteractive('df-9abe9c58-0bff-45ef-8690-052f34670b89')\"\n",
              "              title=\"Convert this dataframe to an interactive table.\"\n",
              "              style=\"display:none;\">\n",
              "        \n",
              "  <svg xmlns=\"http://www.w3.org/2000/svg\" height=\"24px\"viewBox=\"0 0 24 24\"\n",
              "       width=\"24px\">\n",
              "    <path d=\"M0 0h24v24H0V0z\" fill=\"none\"/>\n",
              "    <path d=\"M18.56 5.44l.94 2.06.94-2.06 2.06-.94-2.06-.94-.94-2.06-.94 2.06-2.06.94zm-11 1L8.5 8.5l.94-2.06 2.06-.94-2.06-.94L8.5 2.5l-.94 2.06-2.06.94zm10 10l.94 2.06.94-2.06 2.06-.94-2.06-.94-.94-2.06-.94 2.06-2.06.94z\"/><path d=\"M17.41 7.96l-1.37-1.37c-.4-.4-.92-.59-1.43-.59-.52 0-1.04.2-1.43.59L10.3 9.45l-7.72 7.72c-.78.78-.78 2.05 0 2.83L4 21.41c.39.39.9.59 1.41.59.51 0 1.02-.2 1.41-.59l7.78-7.78 2.81-2.81c.8-.78.8-2.07 0-2.86zM5.41 20L4 18.59l7.72-7.72 1.47 1.35L5.41 20z\"/>\n",
              "  </svg>\n",
              "      </button>\n",
              "      \n",
              "  <style>\n",
              "    .colab-df-container {\n",
              "      display:flex;\n",
              "      flex-wrap:wrap;\n",
              "      gap: 12px;\n",
              "    }\n",
              "\n",
              "    .colab-df-convert {\n",
              "      background-color: #E8F0FE;\n",
              "      border: none;\n",
              "      border-radius: 50%;\n",
              "      cursor: pointer;\n",
              "      display: none;\n",
              "      fill: #1967D2;\n",
              "      height: 32px;\n",
              "      padding: 0 0 0 0;\n",
              "      width: 32px;\n",
              "    }\n",
              "\n",
              "    .colab-df-convert:hover {\n",
              "      background-color: #E2EBFA;\n",
              "      box-shadow: 0px 1px 2px rgba(60, 64, 67, 0.3), 0px 1px 3px 1px rgba(60, 64, 67, 0.15);\n",
              "      fill: #174EA6;\n",
              "    }\n",
              "\n",
              "    [theme=dark] .colab-df-convert {\n",
              "      background-color: #3B4455;\n",
              "      fill: #D2E3FC;\n",
              "    }\n",
              "\n",
              "    [theme=dark] .colab-df-convert:hover {\n",
              "      background-color: #434B5C;\n",
              "      box-shadow: 0px 1px 3px 1px rgba(0, 0, 0, 0.15);\n",
              "      filter: drop-shadow(0px 1px 2px rgba(0, 0, 0, 0.3));\n",
              "      fill: #FFFFFF;\n",
              "    }\n",
              "  </style>\n",
              "\n",
              "      <script>\n",
              "        const buttonEl =\n",
              "          document.querySelector('#df-9abe9c58-0bff-45ef-8690-052f34670b89 button.colab-df-convert');\n",
              "        buttonEl.style.display =\n",
              "          google.colab.kernel.accessAllowed ? 'block' : 'none';\n",
              "\n",
              "        async function convertToInteractive(key) {\n",
              "          const element = document.querySelector('#df-9abe9c58-0bff-45ef-8690-052f34670b89');\n",
              "          const dataTable =\n",
              "            await google.colab.kernel.invokeFunction('convertToInteractive',\n",
              "                                                     [key], {});\n",
              "          if (!dataTable) return;\n",
              "\n",
              "          const docLinkHtml = 'Like what you see? Visit the ' +\n",
              "            '<a target=\"_blank\" href=https://colab.research.google.com/notebooks/data_table.ipynb>data table notebook</a>'\n",
              "            + ' to learn more about interactive tables.';\n",
              "          element.innerHTML = '';\n",
              "          dataTable['output_type'] = 'display_data';\n",
              "          await google.colab.output.renderOutput(dataTable, element);\n",
              "          const docLink = document.createElement('div');\n",
              "          docLink.innerHTML = docLinkHtml;\n",
              "          element.appendChild(docLink);\n",
              "        }\n",
              "      </script>\n",
              "    </div>\n",
              "  </div>\n",
              "  "
            ]
          },
          "metadata": {},
          "execution_count": 8
        }
      ]
    },
    {
      "cell_type": "code",
      "source": [
        "train.columns = ['x1','x2', 'x3', 'y']\n",
        "test.columns = ['x1','x2', 'x3', 'y']"
      ],
      "metadata": {
        "id": "5aaXnRBctjOn"
      },
      "execution_count": null,
      "outputs": []
    },
    {
      "cell_type": "code",
      "source": [
        "train['x4'] = (list(np.ones(len(train))))\n",
        "test['x4'] = (list(np.ones(len(test))))"
      ],
      "metadata": {
        "id": "agdOlTruuD__"
      },
      "execution_count": null,
      "outputs": []
    },
    {
      "cell_type": "code",
      "source": [
        "train.head()"
      ],
      "metadata": {
        "colab": {
          "base_uri": "https://localhost:8080/",
          "height": 206
        },
        "id": "2bcqll1uuMJH",
        "outputId": "8b7d25df-501b-4a51-c84f-83371ba5caf0"
      },
      "execution_count": null,
      "outputs": [
        {
          "output_type": "execute_result",
          "data": {
            "text/plain": [
              "        x1       x2       x3  y   x4\n",
              "0  0.55828  0.89844  0.14509  1  1.0\n",
              "1  0.59887  0.42924  0.37727  1  1.0\n",
              "2  0.14888  0.33433  0.27906  1  1.0\n",
              "3  0.89971  0.59665  0.21390  1  1.0\n",
              "4  0.45039  0.90199  0.13360  1  1.0"
            ],
            "text/html": [
              "\n",
              "  <div id=\"df-fbb09206-2e0e-47d9-a27c-1e089abe85d5\">\n",
              "    <div class=\"colab-df-container\">\n",
              "      <div>\n",
              "<style scoped>\n",
              "    .dataframe tbody tr th:only-of-type {\n",
              "        vertical-align: middle;\n",
              "    }\n",
              "\n",
              "    .dataframe tbody tr th {\n",
              "        vertical-align: top;\n",
              "    }\n",
              "\n",
              "    .dataframe thead th {\n",
              "        text-align: right;\n",
              "    }\n",
              "</style>\n",
              "<table border=\"1\" class=\"dataframe\">\n",
              "  <thead>\n",
              "    <tr style=\"text-align: right;\">\n",
              "      <th></th>\n",
              "      <th>x1</th>\n",
              "      <th>x2</th>\n",
              "      <th>x3</th>\n",
              "      <th>y</th>\n",
              "      <th>x4</th>\n",
              "    </tr>\n",
              "  </thead>\n",
              "  <tbody>\n",
              "    <tr>\n",
              "      <th>0</th>\n",
              "      <td>0.55828</td>\n",
              "      <td>0.89844</td>\n",
              "      <td>0.14509</td>\n",
              "      <td>1</td>\n",
              "      <td>1.0</td>\n",
              "    </tr>\n",
              "    <tr>\n",
              "      <th>1</th>\n",
              "      <td>0.59887</td>\n",
              "      <td>0.42924</td>\n",
              "      <td>0.37727</td>\n",
              "      <td>1</td>\n",
              "      <td>1.0</td>\n",
              "    </tr>\n",
              "    <tr>\n",
              "      <th>2</th>\n",
              "      <td>0.14888</td>\n",
              "      <td>0.33433</td>\n",
              "      <td>0.27906</td>\n",
              "      <td>1</td>\n",
              "      <td>1.0</td>\n",
              "    </tr>\n",
              "    <tr>\n",
              "      <th>3</th>\n",
              "      <td>0.89971</td>\n",
              "      <td>0.59665</td>\n",
              "      <td>0.21390</td>\n",
              "      <td>1</td>\n",
              "      <td>1.0</td>\n",
              "    </tr>\n",
              "    <tr>\n",
              "      <th>4</th>\n",
              "      <td>0.45039</td>\n",
              "      <td>0.90199</td>\n",
              "      <td>0.13360</td>\n",
              "      <td>1</td>\n",
              "      <td>1.0</td>\n",
              "    </tr>\n",
              "  </tbody>\n",
              "</table>\n",
              "</div>\n",
              "      <button class=\"colab-df-convert\" onclick=\"convertToInteractive('df-fbb09206-2e0e-47d9-a27c-1e089abe85d5')\"\n",
              "              title=\"Convert this dataframe to an interactive table.\"\n",
              "              style=\"display:none;\">\n",
              "        \n",
              "  <svg xmlns=\"http://www.w3.org/2000/svg\" height=\"24px\"viewBox=\"0 0 24 24\"\n",
              "       width=\"24px\">\n",
              "    <path d=\"M0 0h24v24H0V0z\" fill=\"none\"/>\n",
              "    <path d=\"M18.56 5.44l.94 2.06.94-2.06 2.06-.94-2.06-.94-.94-2.06-.94 2.06-2.06.94zm-11 1L8.5 8.5l.94-2.06 2.06-.94-2.06-.94L8.5 2.5l-.94 2.06-2.06.94zm10 10l.94 2.06.94-2.06 2.06-.94-2.06-.94-.94-2.06-.94 2.06-2.06.94z\"/><path d=\"M17.41 7.96l-1.37-1.37c-.4-.4-.92-.59-1.43-.59-.52 0-1.04.2-1.43.59L10.3 9.45l-7.72 7.72c-.78.78-.78 2.05 0 2.83L4 21.41c.39.39.9.59 1.41.59.51 0 1.02-.2 1.41-.59l7.78-7.78 2.81-2.81c.8-.78.8-2.07 0-2.86zM5.41 20L4 18.59l7.72-7.72 1.47 1.35L5.41 20z\"/>\n",
              "  </svg>\n",
              "      </button>\n",
              "      \n",
              "  <style>\n",
              "    .colab-df-container {\n",
              "      display:flex;\n",
              "      flex-wrap:wrap;\n",
              "      gap: 12px;\n",
              "    }\n",
              "\n",
              "    .colab-df-convert {\n",
              "      background-color: #E8F0FE;\n",
              "      border: none;\n",
              "      border-radius: 50%;\n",
              "      cursor: pointer;\n",
              "      display: none;\n",
              "      fill: #1967D2;\n",
              "      height: 32px;\n",
              "      padding: 0 0 0 0;\n",
              "      width: 32px;\n",
              "    }\n",
              "\n",
              "    .colab-df-convert:hover {\n",
              "      background-color: #E2EBFA;\n",
              "      box-shadow: 0px 1px 2px rgba(60, 64, 67, 0.3), 0px 1px 3px 1px rgba(60, 64, 67, 0.15);\n",
              "      fill: #174EA6;\n",
              "    }\n",
              "\n",
              "    [theme=dark] .colab-df-convert {\n",
              "      background-color: #3B4455;\n",
              "      fill: #D2E3FC;\n",
              "    }\n",
              "\n",
              "    [theme=dark] .colab-df-convert:hover {\n",
              "      background-color: #434B5C;\n",
              "      box-shadow: 0px 1px 3px 1px rgba(0, 0, 0, 0.15);\n",
              "      filter: drop-shadow(0px 1px 2px rgba(0, 0, 0, 0.3));\n",
              "      fill: #FFFFFF;\n",
              "    }\n",
              "  </style>\n",
              "\n",
              "      <script>\n",
              "        const buttonEl =\n",
              "          document.querySelector('#df-fbb09206-2e0e-47d9-a27c-1e089abe85d5 button.colab-df-convert');\n",
              "        buttonEl.style.display =\n",
              "          google.colab.kernel.accessAllowed ? 'block' : 'none';\n",
              "\n",
              "        async function convertToInteractive(key) {\n",
              "          const element = document.querySelector('#df-fbb09206-2e0e-47d9-a27c-1e089abe85d5');\n",
              "          const dataTable =\n",
              "            await google.colab.kernel.invokeFunction('convertToInteractive',\n",
              "                                                     [key], {});\n",
              "          if (!dataTable) return;\n",
              "\n",
              "          const docLinkHtml = 'Like what you see? Visit the ' +\n",
              "            '<a target=\"_blank\" href=https://colab.research.google.com/notebooks/data_table.ipynb>data table notebook</a>'\n",
              "            + ' to learn more about interactive tables.';\n",
              "          element.innerHTML = '';\n",
              "          dataTable['output_type'] = 'display_data';\n",
              "          await google.colab.output.renderOutput(dataTable, element);\n",
              "          const docLink = document.createElement('div');\n",
              "          docLink.innerHTML = docLinkHtml;\n",
              "          element.appendChild(docLink);\n",
              "        }\n",
              "      </script>\n",
              "    </div>\n",
              "  </div>\n",
              "  "
            ]
          },
          "metadata": {},
          "execution_count": 11
        }
      ]
    },
    {
      "cell_type": "code",
      "source": [
        "x_train = train[['x1','x2', 'x3', 'x4']]\n",
        "y_train = train['y']"
      ],
      "metadata": {
        "id": "gZ4FXlbc-ZOv"
      },
      "execution_count": null,
      "outputs": []
    },
    {
      "cell_type": "code",
      "source": [
        "x_test = test[['x1','x2', 'x3', 'x4']]\n",
        "y_test = test['y']"
      ],
      "metadata": {
        "id": "a3Zk6mxP-cUZ"
      },
      "execution_count": null,
      "outputs": []
    },
    {
      "cell_type": "code",
      "source": [
        "def pegasos(x_train,y_train, lamb=0.01, max_iter=1000):\n",
        "    #T=1000\n",
        "    #lamb = 0.01\n",
        "\n",
        "    p = np.zeros(4)\n",
        "\n",
        "    w_list = []\n",
        "    for t in range(1,max_iter+1):\n",
        "      if(t==1):\n",
        "        w = np.zeros(4)\n",
        "      else:\n",
        "        w = (1/(lamb*(t-1)))*p\n",
        "      i = np.random.randint(0,len(x_train))\n",
        "      x = x_train.iloc[i]\n",
        "      w_list.append(w)\n",
        "      if(y_train[i]*np.dot(w,x) < 1):\n",
        "        p+=y_train.iloc[i]*x\n",
        "      #else:\n",
        "\n",
        "\n",
        "    w_res = np.sum(np.array(w_list),axis=0)\n",
        "    #w_normalized = w_res/sum(np.abs(w_res))\n",
        "\n",
        "    #return w_normalized\n",
        "\n",
        "    return w_res"
      ],
      "metadata": {
        "id": "7GPekMgIuZzy"
      },
      "execution_count": null,
      "outputs": []
    },
    {
      "cell_type": "code",
      "source": [
        "def get_accuracy(x_train, y_train, w):\n",
        "  train_acc = 0\n",
        "\n",
        "  for i in range(len(x_train)):\n",
        "    pred = np.sign(np.dot(w, x_train.iloc[i]))\n",
        "    if(pred == y_train.iloc[i]):\n",
        "      train_acc+=1\n",
        "\n",
        "    #else:\n",
        "    #  print(i)\n",
        "\n",
        "  return train_acc/len(x_train)"
      ],
      "metadata": {
        "id": "cM2XOr3qurmr"
      },
      "execution_count": null,
      "outputs": []
    },
    {
      "cell_type": "code",
      "source": [],
      "metadata": {
        "id": "D6Y2-tvK9Ux5"
      },
      "execution_count": null,
      "outputs": []
    },
    {
      "cell_type": "code",
      "source": [
        "w_result = pegasos(x_train, y_train, lamb = 0.01, max_iter=10000)"
      ],
      "metadata": {
        "id": "v4YKYt2nxm-j"
      },
      "execution_count": null,
      "outputs": []
    },
    {
      "cell_type": "code",
      "source": [
        "get_accuracy(x_train,y_train)"
      ],
      "metadata": {
        "id": "NioJ7MgK-6LZ"
      },
      "execution_count": null,
      "outputs": []
    },
    {
      "cell_type": "code",
      "source": [
        "get_accuracy(x_test,y_test)"
      ],
      "metadata": {
        "id": "3kQ2fTFB-9LZ"
      },
      "execution_count": null,
      "outputs": []
    },
    {
      "cell_type": "code",
      "source": [
        "\n",
        "lambda_list = [0.5, 0.3, 0.1, 0.05, 0.03, 0.01, 0.005]\n",
        "for l in lambda_list:\n",
        "  w_result = pegasos(x_train, y_train, lamb = l, max_iter=10000)\n",
        "  train_accuracy = (get_accuracy(x_train,y_train))\n",
        "  test_accuracy = get_accuracy(x_test,y_test)\n",
        "  print(\"lambda = {} , train_acc = {}, test_acc = {}\".format(l, train_accuracy, test_accuracy))"
      ],
      "metadata": {
        "colab": {
          "base_uri": "https://localhost:8080/"
        },
        "id": "d2-znKt5_TF1",
        "outputId": "51535d03-f90d-4e18-a304-90840263226c"
      },
      "execution_count": null,
      "outputs": [
        {
          "output_type": "stream",
          "name": "stdout",
          "text": [
            "lambda = 0.5 , train_acc = 0.5, test_acc = 0.5\n",
            "lambda = 0.3 , train_acc = 0.56, test_acc = 0.58\n",
            "lambda = 0.1 , train_acc = 0.926, test_acc = 0.96\n",
            "lambda = 0.05 , train_acc = 0.972, test_acc = 0.97\n",
            "lambda = 0.03 , train_acc = 0.978, test_acc = 0.97\n",
            "lambda = 0.01 , train_acc = 0.986, test_acc = 0.97\n",
            "lambda = 0.005 , train_acc = 0.992, test_acc = 0.99\n"
          ]
        }
      ]
    },
    {
      "cell_type": "code",
      "source": [
        "\n",
        "lambda_list = [0.5, 0.3, 0.1, 0.05, 0.03, 0.01, 0.005, 0.003, 0.001]\n",
        "for l in lambda_list:\n",
        "  w_result = pegasos(x_train, y_train, lamb = l, max_iter=10000)\n",
        "  train_accuracy = (get_accuracy(x_train,y_train, w_result))\n",
        "  test_accuracy = get_accuracy(x_test,y_test,w_result)\n",
        "  print(\"lambda = {} , train_acc = {}, test_acc = {}\".format(l, train_accuracy, test_accuracy))"
      ],
      "metadata": {
        "colab": {
          "base_uri": "https://localhost:8080/"
        },
        "id": "BzmEDNqVunJd",
        "outputId": "0855d844-99c0-411e-8b07-fdf41520b841"
      },
      "execution_count": null,
      "outputs": [
        {
          "output_type": "stream",
          "name": "stdout",
          "text": [
            "lambda = 0.5 , train_acc = 0.582, test_acc = 0.59\n",
            "lambda = 0.3 , train_acc = 0.6, test_acc = 0.61\n",
            "lambda = 0.1 , train_acc = 0.93, test_acc = 0.94\n",
            "lambda = 0.05 , train_acc = 0.968, test_acc = 0.96\n",
            "lambda = 0.03 , train_acc = 0.978, test_acc = 0.97\n",
            "lambda = 0.01 , train_acc = 0.992, test_acc = 0.99\n",
            "lambda = 0.005 , train_acc = 0.98, test_acc = 0.97\n",
            "lambda = 0.003 , train_acc = 0.994, test_acc = 0.99\n",
            "lambda = 0.001 , train_acc = 0.984, test_acc = 1.0\n"
          ]
        }
      ]
    },
    {
      "cell_type": "code",
      "source": [
        "\n",
        "\n",
        "best_test_acc = 0 \n",
        "lambda_list = [0.5, 0.3, 0.1, 0.05, 0.03, 0.01, 0.005, 0.003, 0.001]\n",
        "for l in lambda_list:\n",
        "  w_result = pegasos(x_train, y_train, lamb = l, max_iter=10000)\n",
        "  train_accuracy = (get_accuracy(x_train,y_train))\n",
        "  test_accuracy = get_accuracy(x_test,y_test)\n",
        "\n",
        "  if(test_accuracy> best_test_acc):\n",
        "    best_test_acc = test_accuracy\n",
        "    best_w = w_result\n",
        "  print(\"lambda = {} , train_acc = {}, test_acc = {}\".format(l, train_accuracy, test_accuracy))"
      ],
      "metadata": {
        "colab": {
          "base_uri": "https://localhost:8080/"
        },
        "id": "XtVcXAalu4xO",
        "outputId": "77b34e7d-b874-4bec-af57-33f87ed33422"
      },
      "execution_count": null,
      "outputs": [
        {
          "output_type": "stream",
          "name": "stdout",
          "text": [
            "lambda = 0.5 , train_acc = 0.5, test_acc = 0.5\n",
            "lambda = 0.3 , train_acc = 0.594, test_acc = 0.61\n",
            "lambda = 0.1 , train_acc = 0.9, test_acc = 0.93\n",
            "lambda = 0.05 , train_acc = 0.97, test_acc = 0.97\n",
            "lambda = 0.03 , train_acc = 0.976, test_acc = 0.97\n",
            "lambda = 0.01 , train_acc = 0.99, test_acc = 0.98\n",
            "lambda = 0.005 , train_acc = 0.994, test_acc = 0.99\n",
            "lambda = 0.003 , train_acc = 0.978, test_acc = 0.97\n",
            "lambda = 0.001 , train_acc = 0.996, test_acc = 1.0\n"
          ]
        }
      ]
    },
    {
      "cell_type": "code",
      "source": [
        "best_w"
      ],
      "metadata": {
        "colab": {
          "base_uri": "https://localhost:8080/"
        },
        "id": "XD4Dv8tsvOeR",
        "outputId": "4ed97129-580a-4942-d628-ad11ae43b149"
      },
      "execution_count": null,
      "outputs": [
        {
          "output_type": "execute_result",
          "data": {
            "text/plain": [
              "array([  -4126.89805775,    -545.31711777, -118700.12321658,\n",
              "         59830.14931795])"
            ]
          },
          "metadata": {},
          "execution_count": 101
        }
      ]
    },
    {
      "cell_type": "code",
      "source": [
        "\n",
        "\n",
        "best_test_acc = 0 \n",
        "lambda_list = [0.5, 0.3, 0.1, 0.05, 0.03, 0.01, 0.005, 0.003, 0.001]\n",
        "for l in lambda_list:\n",
        "  w_result = pegasos(x_train, y_train, lamb = l, max_iter=10000)\n",
        "  train_accuracy = (get_accuracy(x_train,y_train,w_result))\n",
        "  test_accuracy = get_accuracy(x_test,y_test,w_result)\n",
        "  print(w_result)\n",
        "  print(w_result/sum(np.abs(w_result)))\n",
        "\n",
        "  if(test_accuracy> best_test_acc):\n",
        "    best_test_acc = test_accuracy\n",
        "    best_w = w_result\n",
        "  print(\"lambda = {} , train_acc = {}, test_acc = {}\".format(l, train_accuracy, test_accuracy))\n",
        "print(best_w)"
      ],
      "metadata": {
        "colab": {
          "base_uri": "https://localhost:8080/"
        },
        "id": "HcqDBtyAwQun",
        "outputId": "96578df8-2bd7-4830-b480-8a3d6b2a1168"
      },
      "execution_count": null,
      "outputs": [
        {
          "output_type": "stream",
          "name": "stdout",
          "text": [
            "[ -315.3408473    -56.60698808 -5079.17070633   -76.20651976]\n",
            "[-0.05705126 -0.0102413  -0.91892021 -0.01378723]\n",
            "lambda = 0.5 , train_acc = 0.5, test_acc = 0.5\n",
            "[ -327.2500033    211.04571972 -8208.58618677   304.2525317 ]\n",
            "[-0.03615569  0.02331705 -0.90691241  0.03361485]\n",
            "lambda = 0.3 , train_acc = 0.528, test_acc = 0.53\n",
            "[  1603.18966901   2723.25687502 -19050.40489744   5891.58494573]\n",
            "[ 0.05477538  0.09304415 -0.65088564  0.20129483]\n",
            "lambda = 0.1 , train_acc = 0.924, test_acc = 0.95\n",
            "[  1837.77520823   2538.747958   -25977.30788151  10312.02009021]\n",
            "[ 0.0451921   0.06242948 -0.63879907  0.25357935]\n",
            "lambda = 0.05 , train_acc = 0.968, test_acc = 0.97\n",
            "[  1246.14431114   3064.35090539 -30684.26744671  12692.11697712]\n",
            "[ 0.02613181  0.06425983 -0.64345304  0.26615533]\n",
            "lambda = 0.03 , train_acc = 0.974, test_acc = 0.97\n",
            "[    44.93399977   2734.75627718 -44391.90038091  20811.53368429]\n",
            "[ 0.00066096  0.04022699 -0.65298412  0.30612794]\n",
            "lambda = 0.01 , train_acc = 0.984, test_acc = 0.97\n",
            "[  -133.20561931   3081.65324726 -57288.1706735   26198.06608764]\n",
            "[-0.00153638  0.03554342 -0.66075486  0.30216534]\n",
            "lambda = 0.005 , train_acc = 0.988, test_acc = 0.99\n",
            "[ -2508.35287261   2631.20430185 -68298.27469005  34492.36486412]\n",
            "[-0.02324051  0.02437876 -0.63280043  0.3195803 ]\n",
            "lambda = 0.003 , train_acc = 0.988, test_acc = 0.99\n",
            "[  -2419.09954606    -668.13754688 -118769.17886059   61944.59468883]\n",
            "[-0.01316151 -0.00363511 -0.64618349  0.33701988]\n",
            "lambda = 0.001 , train_acc = 0.992, test_acc = 0.97\n",
            "[  -133.20561931   3081.65324726 -57288.1706735   26198.06608764]\n"
          ]
        }
      ]
    },
    {
      "cell_type": "code",
      "source": [
        "for i in range(len(x_train)):\n",
        "    pred = np.sign(np.dot(best_w, x_train.iloc[i]))\n",
        "    print(pred)"
      ],
      "metadata": {
        "id": "K4Ywep0s6LH7"
      },
      "execution_count": null,
      "outputs": []
    },
    {
      "cell_type": "code",
      "source": [
        "best_test_acc = 0 \n",
        "lambda_list = [0.5, 0.3, 0.1, 0.05, 0.03, 0.01, 0.005, 0.003, 0.001]\n",
        "for l in lambda_list:\n",
        "  w_result = pegasos(x_train, y_train, lamb = l, max_iter=10000)\n",
        "  train_accuracy = (get_accuracy(x_train,y_train,w_result))\n",
        "  test_accuracy = get_accuracy(x_test,y_test,w_result)\n",
        "  \n",
        "  print(w_result)\n",
        "  print(w_result/sum(np.abs(w_result)))\n",
        "  train_accuracy1 = (get_accuracy(x_train,y_train,w_result/sum(np.abs(w_result))))\n",
        "  test_accuracy1 = get_accuracy(x_test,y_test,w_result/sum(np.abs(w_result)))\n",
        "  if(test_accuracy> best_test_acc):\n",
        "    best_test_acc = test_accuracy\n",
        "    best_w = w_result\n",
        "  print(\"lambda = {} , train_acc = {}, test_acc = {}\".format(l, train_accuracy, test_accuracy))\n",
        "  print(\"lambda = {} , train_acc = {}, test_acc = {}\".format(l, train_accuracy1, test_accuracy1))\n",
        "print(best_w)"
      ],
      "metadata": {
        "colab": {
          "base_uri": "https://localhost:8080/"
        },
        "id": "O7ca5KoYxvig",
        "outputId": "52f950c8-c27c-45c7-dbdc-5614ab9dbe26"
      },
      "execution_count": null,
      "outputs": [
        {
          "output_type": "stream",
          "name": "stdout",
          "text": [
            "[ -231.23720273  -123.25269932 -5107.17149933  -297.05143926]\n",
            "[-0.04015432 -0.02140282 -0.8868599  -0.05158296]\n",
            "lambda = 0.5 , train_acc = 0.5, test_acc = 0.5\n",
            "lambda = 0.5 , train_acc = 0.5, test_acc = 0.5\n",
            "[ -367.96842557  -153.15565665 -8457.17987755  -152.14931243]\n",
            "[-0.04030122 -0.01677416 -0.92626068 -0.01666394]\n",
            "lambda = 0.3 , train_acc = 0.5, test_acc = 0.5\n",
            "lambda = 0.3 , train_acc = 0.5, test_acc = 0.5\n",
            "[  1357.51098102   2821.63832519 -18970.54837239   6171.84979246]\n",
            "[ 0.04629739  0.09623088 -0.64698319  0.21048854]\n",
            "lambda = 0.1 , train_acc = 0.946, test_acc = 0.95\n",
            "lambda = 0.1 , train_acc = 0.946, test_acc = 0.95\n",
            "[  1966.05792892   2437.92025839 -25812.31820602  10125.00910634]\n",
            "[ 0.0487356   0.06043236 -0.63984836  0.25098367]\n",
            "lambda = 0.05 , train_acc = 0.966, test_acc = 0.96\n",
            "lambda = 0.05 , train_acc = 0.966, test_acc = 0.96\n",
            "[  1305.84885692   2835.29420093 -30802.66391582  12930.65462706]\n",
            "[ 0.02727652  0.05922352 -0.64340492  0.27009504]\n",
            "lambda = 0.03 , train_acc = 0.976, test_acc = 0.97\n",
            "lambda = 0.03 , train_acc = 0.976, test_acc = 0.97\n",
            "[   650.23015425   1912.16655818 -44012.79937363  19926.00224534]\n",
            "[ 0.00977772  0.02875387 -0.66183468  0.29963373]\n",
            "lambda = 0.01 , train_acc = 0.99, test_acc = 0.99\n",
            "lambda = 0.01 , train_acc = 0.99, test_acc = 0.99\n",
            "[    91.09560249   2135.29774325 -57019.66290857  26333.47924314]\n",
            "[ 0.00106446  0.02495103 -0.66627685  0.30770767]\n",
            "lambda = 0.005 , train_acc = 0.99, test_acc = 0.99\n",
            "lambda = 0.005 , train_acc = 0.99, test_acc = 0.99\n",
            "[ -1398.3865233    1528.84938875 -70629.57431271  33533.84008063]\n",
            "[-0.01305797  0.01427622 -0.65953073  0.31313509]\n",
            "lambda = 0.003 , train_acc = 0.988, test_acc = 0.99\n",
            "lambda = 0.003 , train_acc = 0.988, test_acc = 0.99\n",
            "[   -150.17490544     491.26363053 -119352.08139777   55664.88922191]\n",
            "[-0.00085493  0.0027967  -0.67945555  0.31689282]\n",
            "lambda = 0.001 , train_acc = 0.984, test_acc = 0.99\n",
            "lambda = 0.001 , train_acc = 0.984, test_acc = 0.99\n",
            "[   650.23015425   1912.16655818 -44012.79937363  19926.00224534]\n"
          ]
        }
      ]
    },
    {
      "cell_type": "code",
      "source": [],
      "metadata": {
        "id": "zLkV2diAxiRm"
      },
      "execution_count": null,
      "outputs": []
    },
    {
      "cell_type": "code",
      "source": [
        "best_w/sum(np.abs(best_w))"
      ],
      "metadata": {
        "id": "lozJdP_ow0H9"
      },
      "execution_count": null,
      "outputs": []
    },
    {
      "cell_type": "code",
      "source": [
        "np.dot(w_res, x_train.iloc[0])"
      ],
      "metadata": {
        "id": "sNJ7Dl4Iw8lB"
      },
      "execution_count": null,
      "outputs": []
    },
    {
      "cell_type": "code",
      "source": [
        "np.dot(w_res/sum(np.abs(w_res)), x_train.iloc[0])"
      ],
      "metadata": {
        "id": "1PybpG5JxCgQ"
      },
      "execution_count": null,
      "outputs": []
    },
    {
      "cell_type": "code",
      "source": [
        "sum(np.abs(w_res))"
      ],
      "metadata": {
        "id": "5P93KKS4xYdd"
      },
      "execution_count": null,
      "outputs": []
    },
    {
      "cell_type": "code",
      "source": [
        "train_acc = 0\n",
        "\n",
        "\n",
        "for i in range(len(x_train)):\n",
        "  pred = np.sign(np.dot(w_result, x_train.iloc[i]))\n",
        "  if(pred == y_train.iloc[i]):\n",
        "    train_acc+=1\n",
        "\n",
        "  else:\n",
        "    print(i)\n",
        "\n",
        "train_acc/len(x_train)"
      ],
      "metadata": {
        "id": "Oi9iWVXD9EeV"
      },
      "execution_count": null,
      "outputs": []
    },
    {
      "cell_type": "code",
      "source": [
        "len(test)"
      ],
      "metadata": {
        "colab": {
          "base_uri": "https://localhost:8080/"
        },
        "id": "IdKj3gNP-FZ2",
        "outputId": "1b0e094c-ec8b-4c6a-d6c3-d4b3db86e307"
      },
      "execution_count": null,
      "outputs": [
        {
          "output_type": "execute_result",
          "data": {
            "text/plain": [
              "100"
            ]
          },
          "metadata": {},
          "execution_count": 75
        }
      ]
    },
    {
      "cell_type": "code",
      "source": [],
      "metadata": {
        "id": "qJtRHwYD9-fC"
      },
      "execution_count": null,
      "outputs": []
    },
    {
      "cell_type": "code",
      "source": [
        "test_acc = 0\n",
        "\n",
        "\n",
        "for i in range(len(x_test)):\n",
        "  pred = np.sign(np.dot(w_result, x_test.iloc[i]))\n",
        "  if(pred == y_test.iloc[i]):\n",
        "    test_acc+=1\n",
        "\n",
        "  else:\n",
        "    print(i)\n",
        "\n",
        "test_acc/len(x_test)"
      ],
      "metadata": {
        "colab": {
          "base_uri": "https://localhost:8080/"
        },
        "id": "dfsPdl1b9LY-",
        "outputId": "5a3ccb88-9214-48a3-bdda-8441b08f7207"
      },
      "execution_count": null,
      "outputs": [
        {
          "output_type": "stream",
          "name": "stdout",
          "text": [
            "1\n",
            "63\n",
            "85\n",
            "92\n"
          ]
        },
        {
          "output_type": "execute_result",
          "data": {
            "text/plain": [
              "0.96"
            ]
          },
          "metadata": {},
          "execution_count": 83
        }
      ]
    },
    {
      "cell_type": "code",
      "source": [
        "lst = [np.ones(3), np.ones(3)*0.5]\n",
        "np.sum(np.array(lst),axis=0)\n"
      ],
      "metadata": {
        "colab": {
          "base_uri": "https://localhost:8080/"
        },
        "id": "AuP-t3Fiu61w",
        "outputId": "822046d5-93b3-4648-f2fe-34b13e94dec0"
      },
      "execution_count": null,
      "outputs": [
        {
          "output_type": "execute_result",
          "data": {
            "text/plain": [
              "array([1.5, 1.5, 1.5])"
            ]
          },
          "metadata": {},
          "execution_count": 64
        }
      ]
    },
    {
      "cell_type": "code",
      "source": [],
      "metadata": {
        "id": "FrRtcXOiu-0F"
      },
      "execution_count": null,
      "outputs": []
    },
    {
      "cell_type": "code",
      "source": [
        "T=1000\n",
        "lamb = 0.01\n",
        "\n",
        "p = np.zeros(4)\n",
        "\n",
        "w_list = []\n",
        "for t in range(1,T+1):\n",
        "  if(t==1):\n",
        "    w = np.zeros(4)\n",
        "  else:\n",
        "    w = (1/(lamb*(t-1)))*p\n",
        "  i = np.random.randint(0,len(x_train))\n",
        "  x = x_train.iloc[i]\n",
        "  w_list.append(w)\n",
        "  if(y_train[i]*np.dot(w,x) < 1):\n",
        "    p+=y_train.iloc[i]*x\n",
        "  #else:\n",
        "\n",
        "\n",
        "w_res = np.sum(np.array(w_list),axis=0)\n",
        "w_normalized = w_res/sum(np.abs(w_res))\n",
        "\n",
        "#return w_normalized"
      ],
      "metadata": {
        "id": "Z8MLyC0yvHLd"
      },
      "execution_count": null,
      "outputs": []
    },
    {
      "cell_type": "code",
      "source": [
        "len(w_list)"
      ],
      "metadata": {
        "id": "GhKupvRm8MUm"
      },
      "execution_count": null,
      "outputs": []
    },
    {
      "cell_type": "code",
      "source": [
        "w_result = w_normalized"
      ],
      "metadata": {
        "id": "OD4KUnze93Jb"
      },
      "execution_count": null,
      "outputs": []
    },
    {
      "cell_type": "code",
      "source": [
        "len(x_train)"
      ],
      "metadata": {
        "colab": {
          "base_uri": "https://localhost:8080/"
        },
        "id": "n5R9vQGN8QvV",
        "outputId": "0300b418-d60b-4b36-89a1-49e3e2b19a11"
      },
      "execution_count": null,
      "outputs": [
        {
          "output_type": "execute_result",
          "data": {
            "text/plain": [
              "500"
            ]
          },
          "metadata": {},
          "execution_count": 46
        }
      ]
    },
    {
      "cell_type": "code",
      "source": [
        "np.sign(-0.1)"
      ],
      "metadata": {
        "colab": {
          "base_uri": "https://localhost:8080/"
        },
        "id": "CJesjIYb7QHh",
        "outputId": "382e563a-531c-489a-d13c-3cc04a4b2980"
      },
      "execution_count": null,
      "outputs": [
        {
          "output_type": "execute_result",
          "data": {
            "text/plain": [
              "-1.0"
            ]
          },
          "metadata": {},
          "execution_count": 38
        }
      ]
    },
    {
      "cell_type": "code",
      "source": [
        "w_normalized = w_res/sum(np.abs(w_res))"
      ],
      "metadata": {
        "id": "bxFfJXAoxgR5"
      },
      "execution_count": null,
      "outputs": []
    },
    {
      "cell_type": "code",
      "source": [
        "np.dot(w_normalized, x_train.iloc[111])"
      ],
      "metadata": {
        "colab": {
          "base_uri": "https://localhost:8080/"
        },
        "id": "aQoGi9xhxyve",
        "outputId": "1efc8c5c-e275-4760-baf8-3a592b2b6ab2"
      },
      "execution_count": null,
      "outputs": [
        {
          "output_type": "execute_result",
          "data": {
            "text/plain": [
              "0.006867396422408745"
            ]
          },
          "metadata": {},
          "execution_count": 48
        }
      ]
    },
    {
      "cell_type": "code",
      "source": [
        "train_acc = 0\n",
        "\n",
        "\n",
        "for i in range(len(x_train)):\n",
        "  pred = np.sign(np.dot(w_normalized, x_train.iloc[i]))\n",
        "  if(pred == y_train.iloc[i]):\n",
        "    train_acc+=1\n",
        "\n",
        "  else:\n",
        "    print(i)\n",
        "\n",
        "train_acc/len(x_train)"
      ],
      "metadata": {
        "colab": {
          "base_uri": "https://localhost:8080/"
        },
        "id": "3kFJ0PgTx7ZL",
        "outputId": "10ccf58f-fd5c-4ced-ec1e-b206842b8a50"
      },
      "execution_count": null,
      "outputs": [
        {
          "output_type": "stream",
          "name": "stdout",
          "text": [
            "12\n",
            "30\n",
            "36\n",
            "70\n",
            "217\n",
            "443\n"
          ]
        },
        {
          "output_type": "execute_result",
          "data": {
            "text/plain": [
              "0.988"
            ]
          },
          "metadata": {},
          "execution_count": 49
        }
      ]
    },
    {
      "cell_type": "code",
      "source": [],
      "metadata": {
        "id": "N-1ua-9S7kbS"
      },
      "execution_count": null,
      "outputs": []
    }
  ]
}